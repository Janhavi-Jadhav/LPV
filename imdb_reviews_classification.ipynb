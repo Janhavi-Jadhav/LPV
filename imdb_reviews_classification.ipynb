{
  "cells": [
    {
      "cell_type": "markdown",
      "metadata": {
        "id": "view-in-github",
        "colab_type": "text"
      },
      "source": [
        "<a href=\"https://colab.research.google.com/github/Janhavi-Jadhav/LPV/blob/main/imdb_reviews_classification.ipynb\" target=\"_parent\"><img src=\"https://colab.research.google.com/assets/colab-badge.svg\" alt=\"Open In Colab\"/></a>"
      ]
    },
    {
      "cell_type": "code",
      "execution_count": null,
      "id": "1e12d4d3",
      "metadata": {
        "id": "1e12d4d3"
      },
      "outputs": [],
      "source": [
        "#importing libraries\n",
        "import pandas as pd\n",
        "import numpy as np\n",
        "from tensorflow import keras\n",
        "from tensorflow.keras.models import Sequential\n",
        "from tensorflow.keras.layers import Embedding, Dense, Flatten\n",
        "from tensorflow.keras.preprocessing.text import Tokenizer\n",
        "from tensorflow.keras.preprocessing.sequence import pad_sequences\n",
        "from sklearn.model_selection import train_test_split"
      ]
    },
    {
      "cell_type": "code",
      "execution_count": null,
      "id": "4a4eb648",
      "metadata": {
        "id": "4a4eb648"
      },
      "outputs": [],
      "source": [
        "# Load the CSV file\n",
        "data = pd.read_csv(\"imdb_dataset.csv\")"
      ]
    },
    {
      "cell_type": "code",
      "execution_count": null,
      "id": "072c4b02",
      "metadata": {
        "id": "072c4b02"
      },
      "outputs": [],
      "source": [
        "# Split the data into input (reviews) and output (sentiment) columns\n",
        "reviews = data[\"review\"]\n",
        "sentiments = data[\"sentiment\"]"
      ]
    },
    {
      "cell_type": "code",
      "execution_count": null,
      "id": "50f8503f",
      "metadata": {
        "id": "50f8503f"
      },
      "outputs": [],
      "source": [
        "# Tokenize the text\n",
        "tokenizer = Tokenizer()\n",
        "tokenizer.fit_on_texts(reviews)\n",
        "sequences = tokenizer.texts_to_sequences(reviews)\n"
      ]
    },
    {
      "cell_type": "code",
      "execution_count": null,
      "id": "39202ff6",
      "metadata": {
        "id": "39202ff6"
      },
      "outputs": [],
      "source": [
        "# Pad sequences to a fixed length\n",
        "max_length = 250\n",
        "X = pad_sequences(sequences, maxlen=max_length)\n",
        "\n",
        "# Convert sentiments to binary labels (0 for negative, 1 for positive)\n",
        "y = np.array([1 if sentiment == 'positive' else 0 for sentiment in sentiments])\n"
      ]
    },
    {
      "cell_type": "code",
      "execution_count": null,
      "id": "3866313b",
      "metadata": {
        "id": "3866313b"
      },
      "outputs": [],
      "source": [
        "# Split the data into training and testing sets\n",
        "X_train, X_test, y_train, y_test = train_test_split(X, y, test_size=0.2, random_state=42)\n"
      ]
    },
    {
      "cell_type": "code",
      "execution_count": null,
      "id": "87ab0116",
      "metadata": {
        "id": "87ab0116"
      },
      "outputs": [],
      "source": [
        "# Build the model\n",
        "model = Sequential()\n",
        "model.add(Embedding(input_dim=len(tokenizer.word_index)+1, output_dim=128, input_length=max_length))\n",
        "model.add(Flatten())\n",
        "model.add(Dense(64, activation='relu'))\n",
        "model.add(Dense(1, activation='sigmoid'))\n"
      ]
    },
    {
      "cell_type": "code",
      "execution_count": null,
      "id": "f226f1e3",
      "metadata": {
        "id": "f226f1e3"
      },
      "outputs": [],
      "source": [
        "# Compile the model\n",
        "model.compile(loss='binary_crossentropy', optimizer='adam', metrics=['accuracy'])"
      ]
    },
    {
      "cell_type": "code",
      "execution_count": null,
      "id": "93b39d27",
      "metadata": {
        "id": "93b39d27",
        "outputId": "183866a0-f4e9-466a-866d-e4bc1f4ae54f"
      },
      "outputs": [
        {
          "name": "stdout",
          "output_type": "stream",
          "text": [
            "Epoch 1/7\n",
            "625/625 [==============================] - 226s 358ms/step - loss: 0.3617 - accuracy: 0.8253 - val_loss: 0.2475 - val_accuracy: 0.8958\n",
            "Epoch 2/7\n",
            "625/625 [==============================] - 198s 317ms/step - loss: 0.0519 - accuracy: 0.9822 - val_loss: 0.3807 - val_accuracy: 0.8693\n",
            "Epoch 3/7\n",
            "625/625 [==============================] - 220s 352ms/step - loss: 0.0031 - accuracy: 0.9994 - val_loss: 0.4054 - val_accuracy: 0.8823\n",
            "Epoch 4/7\n",
            "625/625 [==============================] - 219s 351ms/step - loss: 2.4061e-04 - accuracy: 1.0000 - val_loss: 0.4341 - val_accuracy: 0.8829\n",
            "Epoch 5/7\n",
            "625/625 [==============================] - 208s 332ms/step - loss: 8.6494e-05 - accuracy: 1.0000 - val_loss: 0.4454 - val_accuracy: 0.8849\n",
            "Epoch 6/7\n",
            "625/625 [==============================] - 216s 346ms/step - loss: 5.0889e-05 - accuracy: 1.0000 - val_loss: 0.4607 - val_accuracy: 0.8853\n",
            "Epoch 7/7\n",
            "625/625 [==============================] - 214s 343ms/step - loss: 3.2435e-05 - accuracy: 1.0000 - val_loss: 0.4718 - val_accuracy: 0.8858\n"
          ]
        },
        {
          "data": {
            "text/plain": [
              "<keras.callbacks.History at 0x1cf067738e0>"
            ]
          },
          "execution_count": 9,
          "metadata": {},
          "output_type": "execute_result"
        }
      ],
      "source": [
        "# Train the model\n",
        "model.fit(X_train, y_train, batch_size=64, epochs=7, validation_data=(X_test, y_test))"
      ]
    },
    {
      "cell_type": "code",
      "execution_count": null,
      "id": "9c4bfda5",
      "metadata": {
        "id": "9c4bfda5",
        "outputId": "e9f96707-48fa-4736-ad37-73cca56898da"
      },
      "outputs": [
        {
          "name": "stdout",
          "output_type": "stream",
          "text": [
            "313/313 [==============================] - 4s 11ms/step - loss: 0.4718 - accuracy: 0.8858\n",
            "Test loss: 0.47184327244758606\n",
            "Test accuracy: 0.8858000040054321\n"
          ]
        }
      ],
      "source": [
        "# Evaluate the model\n",
        "loss, accuracy = model.evaluate(X_test, y_test)\n",
        "print(\"Test loss:\", loss)\n",
        "print(\"Test accuracy:\", accuracy)"
      ]
    },
    {
      "cell_type": "code",
      "execution_count": null,
      "id": "d7bbba8c",
      "metadata": {
        "id": "d7bbba8c",
        "outputId": "ec6b7504-7ca3-4972-9bea-abed646e6194"
      },
      "outputs": [
        {
          "name": "stdout",
          "output_type": "stream",
          "text": [
            "1/1 [==============================] - 0s 235ms/step\n"
          ]
        }
      ],
      "source": [
        "# Make predictions\n",
        "predictions = model.predict(X_test[:5])"
      ]
    },
    {
      "cell_type": "code",
      "execution_count": null,
      "id": "b6b8f70e",
      "metadata": {
        "id": "b6b8f70e",
        "outputId": "24c7ef92-0c84-4db1-90c9-fec756b930a0"
      },
      "outputs": [
        {
          "name": "stdout",
          "output_type": "stream",
          "text": [
            "Sample Predictions:\n",
            "\n",
            "Predicted Sentiment: Negative\n",
            "Actual Sentiment: Positive\n",
            "Review Text:\n",
            " One of the other reviewers has mentioned that after watching just 1 Oz episode you'll be hooked. They are right, as this is exactly what happened with me.  The first thing that struck me about Oz was its brutality and unflinching scenes of violence, which set in right from the word GO. Trust me, this is not a show for the faint hearted or timid. This show pulls no punches with regards to drugs, sex or violence. Its is hardcore, in the classic use of the word.  It is called OZ as that is the nickname given to the Oswald Maximum Security State Penitentary. It focuses mainly on Emerald City, an experimental section of the prison where all the cells have glass fronts and face inwards, so privacy is not high on the agenda. Em City is home to many..Aryans, Muslims, gangstas, Latinos, Christians, Italians, Irish and more....so scuffles, death stares, dodgy dealings and shady agreements are never far away.  I would say the main appeal of the show is due to the fact that it goes where other shows wouldn't dare. Forget pretty pictures painted for mainstream audiences, forget charm, forget romance...OZ doesn't mess around. The first episode I ever saw struck me as so nasty it was surreal, I couldn't say I was ready for it, but as I watched more, I developed a taste for Oz, and got accustomed to the high levels of graphic violence. Not just violence, but injustice (crooked guards who'll be sold out for a nickel, inmates who'll kill on order and get away with it, well mannered, middle class inmates being turned into prison bitches due to their lack of street skills or prison experience) Watching Oz, you may become comfortable with what is uncomfortable viewing....thats if you can get in touch with your darker side.\n",
            "\n",
            "Predicted Sentiment: Positive\n",
            "Actual Sentiment: Positive\n",
            "Review Text:\n",
            " A wonderful little production.   The filming technique is very unassuming- very old-time-BBC fashion and gives a comforting, and sometimes discomforting, sense of realism to the entire piece.   The actors are extremely well chosen- Michael Sheen not only \"has got all the polari\" but he has all the voices down pat too! You can truly see the seamless editing guided by the references to Williams' diary entries, not only is it well worth the watching but it is a terrificly written and performed piece. A masterful production about one of the great master's of comedy and his life.   The realism really comes home with the little things: the fantasy of the guard which, rather than use the traditional 'dream' techniques remains solid then disappears. It plays on our knowledge and our senses, particularly with the scenes concerning Orton and Halliwell and the sets (particularly of their flat with Halliwell's murals decorating every surface) are terribly well done.\n",
            "\n",
            "Predicted Sentiment: Negative\n",
            "Actual Sentiment: Negative\n",
            "Review Text:\n",
            " I thought this was a wonderful way to spend time on a too hot summer weekend, sitting in the air conditioned theater and watching a light-hearted comedy. The plot is simplistic, but the dialogue is witty and the characters are likable (even the well bread suspected serial killer). While some may be disappointed when they realize this is not Match Point 2: Risk Addiction, I thought it was proof that Woody Allen is still fully in control of the style many of us have grown to love.  This was the most I'd laughed at one of Woody's comedies in years (dare I say a decade?). While I've never been impressed with Scarlet Johanson, in this she managed to tone down her \"sexy\" image and jumped right into a average, but spirited young woman.  This may not be the crown jewel of his career, but it was wittier than \"Devil Wears Prada\" and more interesting than \"Superman\" a great comedy to go see with friends.\n",
            "\n",
            "Predicted Sentiment: Positive\n",
            "Actual Sentiment: Positive\n",
            "Review Text:\n",
            " Basically there's a family where a little boy (Jake) thinks there's a zombie in his closet & his parents are fighting all the time.  This movie is slower than a soap opera... and suddenly, Jake decides to become Rambo and kill the zombie.  OK, first of all when you're going to make a film you must Decide if its a thriller or a drama! As a drama the movie is watchable. Parents are divorcing & arguing like in real life. And then we have Jake with his closet which totally ruins all the film! I expected to see a BOOGEYMAN similar movie, and instead i watched a drama with some meaningless thriller spots.  3 out of 10 just for the well playing parents & descent dialogs. As for the shots with Jake: just ignore them.\n",
            "\n",
            "Predicted Sentiment: Negative\n",
            "Actual Sentiment: Negative\n",
            "Review Text:\n",
            " Petter Mattei's \"Love in the Time of Money\" is a visually stunning film to watch. Mr. Mattei offers us a vivid portrait about human relations. This is a movie that seems to be telling us what money, power and success do to people in the different situations we encounter.   This being a variation on the Arthur Schnitzler's play about the same theme, the director transfers the action to the present time New York where all these different characters meet and connect. Each one is connected in one way, or another to the next person, but no one seems to know the previous point of contact. Stylishly, the film has a sophisticated luxurious look. We are taken to see how these people live and the world they live in their own habitat.  The only thing one gets out of all these souls in the picture is the different stages of loneliness each one inhabits. A big city is not exactly the best place in which human relations find sincere fulfillment, as one discerns is the case with most of the people we encounter.  The acting is good under Mr. Mattei's direction. Steve Buscemi, Rosario Dawson, Carol Kane, Michael Imperioli, Adrian Grenier, and the rest of the talented cast, make these characters come alive.  We wish Mr. Mattei good luck and await anxiously for his next work.\n",
            "\n"
          ]
        }
      ],
      "source": [
        "# Display sample predictions and actual sentiments\n",
        "print(\"Sample Predictions:\\n\")\n",
        "for i in range(5):\n",
        "    predicted_sentiment = \"Positive\" if predictions[i] >= 0.5 else \"Negative\"\n",
        "    actual_sentiment = \"Positive\" if y_test[i] == 1 else \"Negative\"\n",
        "    print(\"Predicted Sentiment:\", predicted_sentiment)\n",
        "    print(\"Actual Sentiment:\", actual_sentiment)\n",
        "    review_text = reviews.iloc[i]\n",
        "    print(\"Review Text:\\n\", review_text)\n",
        "    print()"
      ]
    }
  ],
  "metadata": {
    "colab": {
      "provenance": [],
      "include_colab_link": true
    },
    "kernelspec": {
      "display_name": "Python 3 (ipykernel)",
      "language": "python",
      "name": "python3"
    },
    "language_info": {
      "codemirror_mode": {
        "name": "ipython",
        "version": 3
      },
      "file_extension": ".py",
      "mimetype": "text/x-python",
      "name": "python",
      "nbconvert_exporter": "python",
      "pygments_lexer": "ipython3",
      "version": "3.10.7"
    }
  },
  "nbformat": 4,
  "nbformat_minor": 5
}